{
 "cells": [
  {
   "cell_type": "markdown",
   "metadata": {},
   "source": [
    "# Build all python needed classes to get the following from the Wuzzuf jobs in Egypt data set:\n",
    "- 1.Read the dataset, convert it to DataFrame and display some from it.\n",
    "- 2.Display structure and summary of the data.\n",
    "- 3.Clean the data (null, duplications)\n",
    "- 4.Count the jobs for each company and display that in order (What are the most demanding companies for jobs?)\n",
    "- 5.Show step 4 in a pie chart\n",
    "- 6.Find out what are the most popular job titles.\n",
    "- 7.Show step 6 in bar chart\n",
    "- 8.Find out the most popular areas?\n",
    "- 9.Show step 8 in bar chart\n",
    "- 10.Print skills one by one and how many each repeated and order the output to find out the most important skills required?"
   ]
  },
  {
   "cell_type": "code",
   "execution_count": 1,
   "metadata": {},
   "outputs": [],
   "source": [
    "#import  libraries\n",
    "import pandas as pd\n",
    "import numpy as np\n",
    "import matplotlib.pyplot as plt"
   ]
  },
  {
   "cell_type": "code",
   "execution_count": 104,
   "metadata": {},
   "outputs": [
    {
     "data": {
      "text/html": [
       "<div>\n",
       "<style scoped>\n",
       "    .dataframe tbody tr th:only-of-type {\n",
       "        vertical-align: middle;\n",
       "    }\n",
       "\n",
       "    .dataframe tbody tr th {\n",
       "        vertical-align: top;\n",
       "    }\n",
       "\n",
       "    .dataframe thead th {\n",
       "        text-align: right;\n",
       "    }\n",
       "</style>\n",
       "<table border=\"1\" class=\"dataframe\">\n",
       "  <thead>\n",
       "    <tr style=\"text-align: right;\">\n",
       "      <th></th>\n",
       "      <th>Title</th>\n",
       "      <th>Company</th>\n",
       "      <th>Location</th>\n",
       "      <th>Type</th>\n",
       "      <th>Level</th>\n",
       "      <th>YearsExp</th>\n",
       "      <th>Country</th>\n",
       "      <th>Skills</th>\n",
       "    </tr>\n",
       "  </thead>\n",
       "  <tbody>\n",
       "    <tr>\n",
       "      <th>0</th>\n",
       "      <td>Customer Service Agent</td>\n",
       "      <td>Johnson Controls</td>\n",
       "      <td>New Cairo</td>\n",
       "      <td>Full Time</td>\n",
       "      <td>Entry Level</td>\n",
       "      <td>1-3 Yrs of Exp</td>\n",
       "      <td>Cairo</td>\n",
       "      <td>Call Center, Customer Support, Customer Care, ...</td>\n",
       "    </tr>\n",
       "    <tr>\n",
       "      <th>1</th>\n",
       "      <td>Marketing Manager</td>\n",
       "      <td>SYE English Community</td>\n",
       "      <td>Dokki</td>\n",
       "      <td>Full Time</td>\n",
       "      <td>Manager</td>\n",
       "      <td>5-10 Yrs of Exp</td>\n",
       "      <td>Giza</td>\n",
       "      <td>Market Research, Social Media, Online Marketin...</td>\n",
       "    </tr>\n",
       "    <tr>\n",
       "      <th>2</th>\n",
       "      <td>Medical Representative Heliopolis</td>\n",
       "      <td>So Value Pharma</td>\n",
       "      <td>Cairo</td>\n",
       "      <td>Full Time</td>\n",
       "      <td>Entry Level</td>\n",
       "      <td>0-5 Yrs of Exp</td>\n",
       "      <td>Egypt</td>\n",
       "      <td>Cardio-metabolic, Sales Skills, Sales Target, ...</td>\n",
       "    </tr>\n",
       "    <tr>\n",
       "      <th>3</th>\n",
       "      <td>Order Handling Specialist</td>\n",
       "      <td>Johnson Controls</td>\n",
       "      <td>New Cairo</td>\n",
       "      <td>Full Time</td>\n",
       "      <td>Experienced</td>\n",
       "      <td>3-5 Yrs of Exp</td>\n",
       "      <td>Cairo</td>\n",
       "      <td>Supply Officer, Supply Planner, Procurement an...</td>\n",
       "    </tr>\n",
       "    <tr>\n",
       "      <th>4</th>\n",
       "      <td>Storekeeper</td>\n",
       "      <td>Confidential</td>\n",
       "      <td>Cairo</td>\n",
       "      <td>Full Time</td>\n",
       "      <td>Experienced</td>\n",
       "      <td>3+ Yrs of Exp</td>\n",
       "      <td>Egypt</td>\n",
       "      <td>Warehousing, Storekeeping, Logistics/Supply Chain</td>\n",
       "    </tr>\n",
       "    <tr>\n",
       "      <th>5</th>\n",
       "      <td>Senior .NET Developer (Desktop Application)</td>\n",
       "      <td>Dexef</td>\n",
       "      <td>Maadi</td>\n",
       "      <td>Full Time</td>\n",
       "      <td>Experienced</td>\n",
       "      <td>3-5 Yrs of Exp</td>\n",
       "      <td>Cairo</td>\n",
       "      <td>ASP.NET, Desktop Development, Information Tech...</td>\n",
       "    </tr>\n",
       "    <tr>\n",
       "      <th>6</th>\n",
       "      <td>Preschool French Teacher</td>\n",
       "      <td>Leap Development Hub</td>\n",
       "      <td>New Cairo</td>\n",
       "      <td>Full Time</td>\n",
       "      <td>Entry Level</td>\n",
       "      <td>1-3 Yrs of Exp</td>\n",
       "      <td>Cairo</td>\n",
       "      <td>Education, Education/Teaching</td>\n",
       "    </tr>\n",
       "  </tbody>\n",
       "</table>\n",
       "</div>"
      ],
      "text/plain": [
       "                                         Title                Company  \\\n",
       "0                       Customer Service Agent       Johnson Controls   \n",
       "1                            Marketing Manager  SYE English Community   \n",
       "2            Medical Representative Heliopolis        So Value Pharma   \n",
       "3                    Order Handling Specialist       Johnson Controls   \n",
       "4                                  Storekeeper           Confidential   \n",
       "5  Senior .NET Developer (Desktop Application)                  Dexef   \n",
       "6                     Preschool French Teacher   Leap Development Hub   \n",
       "\n",
       "     Location       Type        Level         YearsExp Country  \\\n",
       "0   New Cairo  Full Time  Entry Level   1-3 Yrs of Exp   Cairo   \n",
       "1       Dokki  Full Time      Manager  5-10 Yrs of Exp    Giza   \n",
       "2       Cairo  Full Time  Entry Level   0-5 Yrs of Exp   Egypt   \n",
       "3   New Cairo  Full Time  Experienced   3-5 Yrs of Exp   Cairo   \n",
       "4       Cairo  Full Time  Experienced    3+ Yrs of Exp   Egypt   \n",
       "5       Maadi  Full Time  Experienced   3-5 Yrs of Exp   Cairo   \n",
       "6   New Cairo  Full Time  Entry Level   1-3 Yrs of Exp   Cairo   \n",
       "\n",
       "                                              Skills  \n",
       "0  Call Center, Customer Support, Customer Care, ...  \n",
       "1  Market Research, Social Media, Online Marketin...  \n",
       "2  Cardio-metabolic, Sales Skills, Sales Target, ...  \n",
       "3  Supply Officer, Supply Planner, Procurement an...  \n",
       "4  Warehousing, Storekeeping, Logistics/Supply Chain  \n",
       "5  ASP.NET, Desktop Development, Information Tech...  \n",
       "6                      Education, Education/Teaching  "
      ]
     },
     "execution_count": 104,
     "metadata": {},
     "output_type": "execute_result"
    }
   ],
   "source": [
    "df = pd.read_csv('Wuzzuf_Jobs.csv')\n",
    "df.head(7)"
   ]
  },
  {
   "cell_type": "code",
   "execution_count": 3,
   "metadata": {},
   "outputs": [
    {
     "data": {
      "text/html": [
       "<div>\n",
       "<style scoped>\n",
       "    .dataframe tbody tr th:only-of-type {\n",
       "        vertical-align: middle;\n",
       "    }\n",
       "\n",
       "    .dataframe tbody tr th {\n",
       "        vertical-align: top;\n",
       "    }\n",
       "\n",
       "    .dataframe thead th {\n",
       "        text-align: right;\n",
       "    }\n",
       "</style>\n",
       "<table border=\"1\" class=\"dataframe\">\n",
       "  <thead>\n",
       "    <tr style=\"text-align: right;\">\n",
       "      <th></th>\n",
       "      <th>Title</th>\n",
       "      <th>Company</th>\n",
       "      <th>Location</th>\n",
       "      <th>Type</th>\n",
       "      <th>Level</th>\n",
       "      <th>YearsExp</th>\n",
       "      <th>Country</th>\n",
       "      <th>Skills</th>\n",
       "    </tr>\n",
       "  </thead>\n",
       "  <tbody>\n",
       "    <tr>\n",
       "      <th>count</th>\n",
       "      <td>4380</td>\n",
       "      <td>4380</td>\n",
       "      <td>4380</td>\n",
       "      <td>4380</td>\n",
       "      <td>4380</td>\n",
       "      <td>4380</td>\n",
       "      <td>4380</td>\n",
       "      <td>4380</td>\n",
       "    </tr>\n",
       "    <tr>\n",
       "      <th>unique</th>\n",
       "      <td>2965</td>\n",
       "      <td>1534</td>\n",
       "      <td>162</td>\n",
       "      <td>6</td>\n",
       "      <td>9</td>\n",
       "      <td>101</td>\n",
       "      <td>42</td>\n",
       "      <td>4227</td>\n",
       "    </tr>\n",
       "    <tr>\n",
       "      <th>top</th>\n",
       "      <td>Accountant</td>\n",
       "      <td>Confidential</td>\n",
       "      <td>Cairo</td>\n",
       "      <td>Full Time</td>\n",
       "      <td>Experienced</td>\n",
       "      <td>1-3 Yrs of Exp</td>\n",
       "      <td>Cairo</td>\n",
       "      <td>Corporate Sales, Real Estate, Advertising, Mar...</td>\n",
       "    </tr>\n",
       "    <tr>\n",
       "      <th>freq</th>\n",
       "      <td>57</td>\n",
       "      <td>590</td>\n",
       "      <td>563</td>\n",
       "      <td>4168</td>\n",
       "      <td>2198</td>\n",
       "      <td>414</td>\n",
       "      <td>2230</td>\n",
       "      <td>12</td>\n",
       "    </tr>\n",
       "  </tbody>\n",
       "</table>\n",
       "</div>"
      ],
      "text/plain": [
       "             Title       Company Location       Type        Level  \\\n",
       "count         4380          4380     4380       4380         4380   \n",
       "unique        2965          1534      162          6            9   \n",
       "top     Accountant  Confidential    Cairo  Full Time  Experienced   \n",
       "freq            57           590      563       4168         2198   \n",
       "\n",
       "              YearsExp Country  \\\n",
       "count             4380    4380   \n",
       "unique             101      42   \n",
       "top     1-3 Yrs of Exp   Cairo   \n",
       "freq               414    2230   \n",
       "\n",
       "                                                   Skills  \n",
       "count                                                4380  \n",
       "unique                                               4227  \n",
       "top     Corporate Sales, Real Estate, Advertising, Mar...  \n",
       "freq                                                   12  "
      ]
     },
     "execution_count": 3,
     "metadata": {},
     "output_type": "execute_result"
    }
   ],
   "source": [
    "df.describe()"
   ]
  },
  {
   "cell_type": "code",
   "execution_count": 4,
   "metadata": {},
   "outputs": [
    {
     "name": "stdout",
     "output_type": "stream",
     "text": [
      "<class 'pandas.core.frame.DataFrame'>\n",
      "RangeIndex: 4380 entries, 0 to 4379\n",
      "Data columns (total 8 columns):\n",
      " #   Column    Non-Null Count  Dtype \n",
      "---  ------    --------------  ----- \n",
      " 0   Title     4380 non-null   object\n",
      " 1   Company   4380 non-null   object\n",
      " 2   Location  4380 non-null   object\n",
      " 3   Type      4380 non-null   object\n",
      " 4   Level     4380 non-null   object\n",
      " 5   YearsExp  4380 non-null   object\n",
      " 6   Country   4380 non-null   object\n",
      " 7   Skills    4380 non-null   object\n",
      "dtypes: object(8)\n",
      "memory usage: 273.9+ KB\n"
     ]
    }
   ],
   "source": [
    "df.info()"
   ]
  },
  {
   "cell_type": "code",
   "execution_count": 5,
   "metadata": {},
   "outputs": [
    {
     "data": {
      "text/plain": [
       "0"
      ]
     },
     "execution_count": 5,
     "metadata": {},
     "output_type": "execute_result"
    }
   ],
   "source": [
    "df.isnull().sum().sum()"
   ]
  },
  {
   "cell_type": "code",
   "execution_count": 6,
   "metadata": {},
   "outputs": [
    {
     "name": "stdout",
     "output_type": "stream",
     "text": [
      "Confidential                   590\n",
      "Mishkat Nour                    39\n",
      "Expand Cart                     35\n",
      "EGIC                            34\n",
      "Aqarmap.com                     25\n",
      "                              ... \n",
      "VadeCom                          1\n",
      "JE Austin Associates             1\n",
      "Dolf                             1\n",
      "Digitize Academy                 1\n",
      "Agricultural Export council      1\n",
      "Name: Company, Length: 1534, dtype: int64\n"
     ]
    }
   ],
   "source": [
    "x = df.Company.value_counts()\n",
    "print(x)"
   ]
  },
  {
   "cell_type": "code",
   "execution_count": 8,
   "metadata": {},
   "outputs": [
    {
     "data": {
      "text/html": [
       "<div>\n",
       "<style scoped>\n",
       "    .dataframe tbody tr th:only-of-type {\n",
       "        vertical-align: middle;\n",
       "    }\n",
       "\n",
       "    .dataframe tbody tr th {\n",
       "        vertical-align: top;\n",
       "    }\n",
       "\n",
       "    .dataframe thead th {\n",
       "        text-align: right;\n",
       "    }\n",
       "</style>\n",
       "<table border=\"1\" class=\"dataframe\">\n",
       "  <thead>\n",
       "    <tr style=\"text-align: right;\">\n",
       "      <th></th>\n",
       "      <th>Title</th>\n",
       "      <th>Company</th>\n",
       "      <th>Location</th>\n",
       "      <th>Type</th>\n",
       "      <th>Level</th>\n",
       "      <th>YearsExp</th>\n",
       "      <th>Country</th>\n",
       "      <th>Skills</th>\n",
       "    </tr>\n",
       "  </thead>\n",
       "  <tbody>\n",
       "    <tr>\n",
       "      <th>0</th>\n",
       "      <td>Customer Service Agent</td>\n",
       "      <td>Johnson Controls</td>\n",
       "      <td>New Cairo</td>\n",
       "      <td>Full Time</td>\n",
       "      <td>Entry Level</td>\n",
       "      <td>1-3 Yrs of Exp</td>\n",
       "      <td>Cairo</td>\n",
       "      <td>Call Center, Customer Support, Customer Care, ...</td>\n",
       "    </tr>\n",
       "    <tr>\n",
       "      <th>1</th>\n",
       "      <td>Marketing Manager</td>\n",
       "      <td>SYE English Community</td>\n",
       "      <td>Dokki</td>\n",
       "      <td>Full Time</td>\n",
       "      <td>Manager</td>\n",
       "      <td>5-10 Yrs of Exp</td>\n",
       "      <td>Giza</td>\n",
       "      <td>Market Research, Social Media, Online Marketin...</td>\n",
       "    </tr>\n",
       "    <tr>\n",
       "      <th>2</th>\n",
       "      <td>Medical Representative Heliopolis</td>\n",
       "      <td>So Value Pharma</td>\n",
       "      <td>Cairo</td>\n",
       "      <td>Full Time</td>\n",
       "      <td>Entry Level</td>\n",
       "      <td>0-5 Yrs of Exp</td>\n",
       "      <td>Egypt</td>\n",
       "      <td>Cardio-metabolic, Sales Skills, Sales Target, ...</td>\n",
       "    </tr>\n",
       "    <tr>\n",
       "      <th>3</th>\n",
       "      <td>Order Handling Specialist</td>\n",
       "      <td>Johnson Controls</td>\n",
       "      <td>New Cairo</td>\n",
       "      <td>Full Time</td>\n",
       "      <td>Experienced</td>\n",
       "      <td>3-5 Yrs of Exp</td>\n",
       "      <td>Cairo</td>\n",
       "      <td>Supply Officer, Supply Planner, Procurement an...</td>\n",
       "    </tr>\n",
       "    <tr>\n",
       "      <th>4</th>\n",
       "      <td>Storekeeper</td>\n",
       "      <td>Confidential</td>\n",
       "      <td>Cairo</td>\n",
       "      <td>Full Time</td>\n",
       "      <td>Experienced</td>\n",
       "      <td>3+ Yrs of Exp</td>\n",
       "      <td>Egypt</td>\n",
       "      <td>Warehousing, Storekeeping, Logistics/Supply Chain</td>\n",
       "    </tr>\n",
       "  </tbody>\n",
       "</table>\n",
       "</div>"
      ],
      "text/plain": [
       "                               Title                Company    Location  \\\n",
       "0             Customer Service Agent       Johnson Controls   New Cairo   \n",
       "1                  Marketing Manager  SYE English Community       Dokki   \n",
       "2  Medical Representative Heliopolis        So Value Pharma       Cairo   \n",
       "3          Order Handling Specialist       Johnson Controls   New Cairo   \n",
       "4                        Storekeeper           Confidential       Cairo   \n",
       "\n",
       "        Type        Level         YearsExp Country  \\\n",
       "0  Full Time  Entry Level   1-3 Yrs of Exp   Cairo   \n",
       "1  Full Time      Manager  5-10 Yrs of Exp    Giza   \n",
       "2  Full Time  Entry Level   0-5 Yrs of Exp   Egypt   \n",
       "3  Full Time  Experienced   3-5 Yrs of Exp   Cairo   \n",
       "4  Full Time  Experienced    3+ Yrs of Exp   Egypt   \n",
       "\n",
       "                                              Skills  \n",
       "0  Call Center, Customer Support, Customer Care, ...  \n",
       "1  Market Research, Social Media, Online Marketin...  \n",
       "2  Cardio-metabolic, Sales Skills, Sales Target, ...  \n",
       "3  Supply Officer, Supply Planner, Procurement an...  \n",
       "4  Warehousing, Storekeeping, Logistics/Supply Chain  "
      ]
     },
     "execution_count": 8,
     "metadata": {},
     "output_type": "execute_result"
    }
   ],
   "source": [
    "df.head()"
   ]
  },
  {
   "cell_type": "markdown",
   "metadata": {},
   "source": [
    "# Visulazation"
   ]
  },
  {
   "cell_type": "code",
   "execution_count": 106,
   "metadata": {},
   "outputs": [
    {
     "data": {
      "text/plain": [
       "Confidential    590\n",
       "Mishkat Nour     39\n",
       "Expand Cart      35\n",
       "EGIC             34\n",
       "Aqarmap.com      25\n",
       "Name: Company, dtype: int64"
      ]
     },
     "execution_count": 106,
     "metadata": {},
     "output_type": "execute_result"
    }
   ],
   "source": [
    "df['Company'].value_counts()[:5]"
   ]
  },
  {
   "cell_type": "code",
   "execution_count": 110,
   "metadata": {},
   "outputs": [
    {
     "data": {
      "image/png": "[encoded data removed]",
      "text/plain": [
       "<Figure size 720x720 with 1 Axes>"
      ]
     },
     "metadata": {},
     "output_type": "display_data"
    }
   ],
   "source": [
    "plt.subplots(figsize=(10,10))\n",
    "\n",
    "sorted_counts = df['Company'].value_counts()[:5]\n",
    "plt.pie(sorted_counts, labels = sorted_counts.index,explode = [0.1,0.1,0.1,0.1,0.1],autopct ='%1.1f%%')\n",
    "plt.title(\"High hired company\", fontsize=20)\n",
    "plt.legend();"
   ]
  },
  {
   "cell_type": "code",
   "execution_count": 11,
   "metadata": {},
   "outputs": [
    {
     "data": {
      "text/plain": [
       "<AxesSubplot:>"
      ]
     },
     "execution_count": 11,
     "metadata": {},
     "output_type": "execute_result"
    },
    {
     "data": {
      "image/png": "[encoded data removed]",
      "text/plain": [
       "<Figure size 1080x1080 with 1 Axes>"
      ]
     },
     "metadata": {
      "needs_background": "light"
     },
     "output_type": "display_data"
    }
   ],
   "source": [
    "#6.Find out what are the most popular job titles.\n",
    "x= df['Title'].value_counts()[:5]\n",
    "x.plot(kind='barh',figsize=(15,15), color=\"green\")"
   ]
  },
  {
   "cell_type": "code",
   "execution_count": 12,
   "metadata": {},
   "outputs": [
    {
     "data": {
      "text/plain": [
       " Cairo             563\n",
       " Maadi             525\n",
       " New Cairo         522\n",
       " Nasr City         424\n",
       " 6th of October    282\n",
       " Heliopolis        247\n",
       " Mohandessin       140\n",
       " Dokki             140\n",
       " Alexandria        130\n",
       " Giza              126\n",
       "Name: Location, dtype: int64"
      ]
     },
     "execution_count": 12,
     "metadata": {},
     "output_type": "execute_result"
    }
   ],
   "source": [
    "#8.Find out the most popular areas?\n",
    "df.Location.value_counts()[:10]"
   ]
  },
  {
   "cell_type": "code",
   "execution_count": 13,
   "metadata": {},
   "outputs": [
    {
     "data": {
      "text/plain": [
       "<AxesSubplot:>"
      ]
     },
     "execution_count": 13,
     "metadata": {},
     "output_type": "execute_result"
    },
    {
     "data": {
      "image/png": "[encoded data removed]",
      "text/plain": [
       "<Figure size 1080x720 with 1 Axes>"
      ]
     },
     "metadata": {
      "needs_background": "light"
     },
     "output_type": "display_data"
    }
   ],
   "source": [
    "x= df['Location'].value_counts()[:10]\n",
    "x.plot(kind='bar',figsize=(15,10), color=\"green\")"
   ]
  },
  {
   "cell_type": "code",
   "execution_count": 14,
   "metadata": {},
   "outputs": [
    {
     "data": {
      "text/plain": [
       "Cairo           2230\n",
       "Egypt            927\n",
       "Giza             776\n",
       "Alexandria       129\n",
       "Sharqia           62\n",
       "Saudi Arabia      51\n",
       "Dakahlia          37\n",
       "Gharbia           27\n",
       "Red Sea           16\n",
       "Monufya           16\n",
       "Name: Country, dtype: int64"
      ]
     },
     "execution_count": 14,
     "metadata": {},
     "output_type": "execute_result"
    }
   ],
   "source": [
    "df.Country.value_counts()[:10]"
   ]
  },
  {
   "cell_type": "code",
   "execution_count": 15,
   "metadata": {},
   "outputs": [
    {
     "data": {
      "text/plain": [
       "<AxesSubplot:>"
      ]
     },
     "execution_count": 15,
     "metadata": {},
     "output_type": "execute_result"
    },
    {
     "data": {
      "image/png": "[encoded data removed]",
      "text/plain": [
       "<Figure size 1080x720 with 1 Axes>"
      ]
     },
     "metadata": {
      "needs_background": "light"
     },
     "output_type": "display_data"
    }
   ],
   "source": [
    "x= df['Country'].value_counts()[:10]\n",
    "x.plot(kind='bar',figsize=(15,10), color=\"green\")"
   ]
  },
  {
   "cell_type": "code",
   "execution_count": 19,
   "metadata": {},
   "outputs": [
    {
     "name": "stdout",
     "output_type": "stream",
     "text": [
      "Corporate Sales, Real Estate, Advertising, Marketing, Sales Skills, Insurance, Sales Target, Outdoor Sales, Telesales, Property       12\n",
      "Logistics, SAP, Inventory, Store Keeping, Logistics/Supply Chain                                                                      11\n",
      "Sales Skills, Sales Target, Customer Services, Customer Care, Retail, Collection, Distribution, Selling Skills, Negotiation Skills    10\n",
      "Real Estate, Sales Skills, Sales Target, Outdoor Sales, Property, Customer Service, Customer Care, Customer Support, Advertising       9\n",
      "Finance, Sales Accounting, Commerce, Budget, Reporting, Accounting/Finance                                                             9\n",
      "Name: Skills, dtype: int64\n"
     ]
    }
   ],
   "source": [
    "n= df['Skills'].value_counts()[:5]\n",
    "print(n)"
   ]
  },
  {
   "cell_type": "code",
   "execution_count": 108,
   "metadata": {},
   "outputs": [
    {
     "data": {
      "text/html": [
       "<div>\n",
       "<style scoped>\n",
       "    .dataframe tbody tr th:only-of-type {\n",
       "        vertical-align: middle;\n",
       "    }\n",
       "\n",
       "    .dataframe tbody tr th {\n",
       "        vertical-align: top;\n",
       "    }\n",
       "\n",
       "    .dataframe thead th {\n",
       "        text-align: right;\n",
       "    }\n",
       "</style>\n",
       "<table border=\"1\" class=\"dataframe\">\n",
       "  <thead>\n",
       "    <tr style=\"text-align: right;\">\n",
       "      <th></th>\n",
       "      <th>Title</th>\n",
       "      <th>Company</th>\n",
       "      <th>Location</th>\n",
       "      <th>Type</th>\n",
       "      <th>Level</th>\n",
       "      <th>YearsExp</th>\n",
       "      <th>Country</th>\n",
       "      <th>Skills</th>\n",
       "    </tr>\n",
       "  </thead>\n",
       "  <tbody>\n",
       "    <tr>\n",
       "      <th>0</th>\n",
       "      <td>Customer Service Agent</td>\n",
       "      <td>Johnson Controls</td>\n",
       "      <td>New Cairo</td>\n",
       "      <td>Full Time</td>\n",
       "      <td>Entry Level</td>\n",
       "      <td>1-3 Yrs of Exp</td>\n",
       "      <td>Cairo</td>\n",
       "      <td>Call Center, Customer Support, Customer Care, ...</td>\n",
       "    </tr>\n",
       "    <tr>\n",
       "      <th>1</th>\n",
       "      <td>Marketing Manager</td>\n",
       "      <td>SYE English Community</td>\n",
       "      <td>Dokki</td>\n",
       "      <td>Full Time</td>\n",
       "      <td>Manager</td>\n",
       "      <td>5-10 Yrs of Exp</td>\n",
       "      <td>Giza</td>\n",
       "      <td>Market Research, Social Media, Online Marketin...</td>\n",
       "    </tr>\n",
       "    <tr>\n",
       "      <th>2</th>\n",
       "      <td>Medical Representative Heliopolis</td>\n",
       "      <td>So Value Pharma</td>\n",
       "      <td>Cairo</td>\n",
       "      <td>Full Time</td>\n",
       "      <td>Entry Level</td>\n",
       "      <td>0-5 Yrs of Exp</td>\n",
       "      <td>Egypt</td>\n",
       "      <td>Cardio-metabolic, Sales Skills, Sales Target, ...</td>\n",
       "    </tr>\n",
       "    <tr>\n",
       "      <th>3</th>\n",
       "      <td>Order Handling Specialist</td>\n",
       "      <td>Johnson Controls</td>\n",
       "      <td>New Cairo</td>\n",
       "      <td>Full Time</td>\n",
       "      <td>Experienced</td>\n",
       "      <td>3-5 Yrs of Exp</td>\n",
       "      <td>Cairo</td>\n",
       "      <td>Supply Officer, Supply Planner, Procurement an...</td>\n",
       "    </tr>\n",
       "    <tr>\n",
       "      <th>4</th>\n",
       "      <td>Storekeeper</td>\n",
       "      <td>Confidential</td>\n",
       "      <td>Cairo</td>\n",
       "      <td>Full Time</td>\n",
       "      <td>Experienced</td>\n",
       "      <td>3+ Yrs of Exp</td>\n",
       "      <td>Egypt</td>\n",
       "      <td>Warehousing, Storekeeping, Logistics/Supply Chain</td>\n",
       "    </tr>\n",
       "  </tbody>\n",
       "</table>\n",
       "</div>"
      ],
      "text/plain": [
       "                               Title                Company    Location  \\\n",
       "0             Customer Service Agent       Johnson Controls   New Cairo   \n",
       "1                  Marketing Manager  SYE English Community       Dokki   \n",
       "2  Medical Representative Heliopolis        So Value Pharma       Cairo   \n",
       "3          Order Handling Specialist       Johnson Controls   New Cairo   \n",
       "4                        Storekeeper           Confidential       Cairo   \n",
       "\n",
       "        Type        Level         YearsExp Country  \\\n",
       "0  Full Time  Entry Level   1-3 Yrs of Exp   Cairo   \n",
       "1  Full Time      Manager  5-10 Yrs of Exp    Giza   \n",
       "2  Full Time  Entry Level   0-5 Yrs of Exp   Egypt   \n",
       "3  Full Time  Experienced   3-5 Yrs of Exp   Cairo   \n",
       "4  Full Time  Experienced    3+ Yrs of Exp   Egypt   \n",
       "\n",
       "                                              Skills  \n",
       "0  Call Center, Customer Support, Customer Care, ...  \n",
       "1  Market Research, Social Media, Online Marketin...  \n",
       "2  Cardio-metabolic, Sales Skills, Sales Target, ...  \n",
       "3  Supply Officer, Supply Planner, Procurement an...  \n",
       "4  Warehousing, Storekeeping, Logistics/Supply Chain  "
      ]
     },
     "execution_count": 108,
     "metadata": {},
     "output_type": "execute_result"
    }
   ],
   "source": [
    "df.head()"
   ]
  },
  {
   "cell_type": "code",
   "execution_count": 69,
   "metadata": {},
   "outputs": [],
   "source": [
    "# split column into multiple columns by delimiter \n",
    "df1= df['Skills'].str.split(',', expand=True)"
   ]
  },
  {
   "cell_type": "code",
   "execution_count": 111,
   "metadata": {},
   "outputs": [
    {
     "data": {
      "text/html": [
       "<div>\n",
       "<style scoped>\n",
       "    .dataframe tbody tr th:only-of-type {\n",
       "        vertical-align: middle;\n",
       "    }\n",
       "\n",
       "    .dataframe tbody tr th {\n",
       "        vertical-align: top;\n",
       "    }\n",
       "\n",
       "    .dataframe thead th {\n",
       "        text-align: right;\n",
       "    }\n",
       "</style>\n",
       "<table border=\"1\" class=\"dataframe\">\n",
       "  <thead>\n",
       "    <tr style=\"text-align: right;\">\n",
       "      <th></th>\n",
       "      <th>Skill_1</th>\n",
       "      <th>Skill_2</th>\n",
       "      <th>Skill_3</th>\n",
       "      <th>Skill_4</th>\n",
       "      <th>Skill_5</th>\n",
       "      <th>Skill_6</th>\n",
       "      <th>Skill_7</th>\n",
       "      <th>Skill_8</th>\n",
       "      <th>Skill_9</th>\n",
       "      <th>Skill_10</th>\n",
       "      <th>Skill_11</th>\n",
       "      <th>Skill_12</th>\n",
       "      <th>Skill_13</th>\n",
       "      <th>Skill_14</th>\n",
       "      <th>Skill_15</th>\n",
       "      <th>Skill_16</th>\n",
       "      <th>Skill_17</th>\n",
       "    </tr>\n",
       "  </thead>\n",
       "  <tbody>\n",
       "    <tr>\n",
       "      <th>2989</th>\n",
       "      <td>Chemical Engineering</td>\n",
       "      <td>Industrial Powder Coating</td>\n",
       "      <td>Painting Process</td>\n",
       "      <td>Science</td>\n",
       "      <td>TIG</td>\n",
       "      <td>MIG</td>\n",
       "      <td>Mechanical Engineering</td>\n",
       "      <td>Six Sigma</td>\n",
       "      <td>0</td>\n",
       "      <td>0</td>\n",
       "      <td>0</td>\n",
       "      <td>0</td>\n",
       "      <td>0</td>\n",
       "      <td>0</td>\n",
       "      <td>0</td>\n",
       "      <td>0</td>\n",
       "      <td>0</td>\n",
       "    </tr>\n",
       "    <tr>\n",
       "      <th>1074</th>\n",
       "      <td>Pharmacy</td>\n",
       "      <td>Pharmaceutical</td>\n",
       "      <td>Medical</td>\n",
       "      <td>Customer Service</td>\n",
       "      <td>Customer Care</td>\n",
       "      <td>Customer Support</td>\n",
       "      <td>Pharmaceutical</td>\n",
       "      <td>0</td>\n",
       "      <td>0</td>\n",
       "      <td>0</td>\n",
       "      <td>0</td>\n",
       "      <td>0</td>\n",
       "      <td>0</td>\n",
       "      <td>0</td>\n",
       "      <td>0</td>\n",
       "      <td>0</td>\n",
       "      <td>0</td>\n",
       "    </tr>\n",
       "    <tr>\n",
       "      <th>633</th>\n",
       "      <td>Financial Analysis</td>\n",
       "      <td>Cashier</td>\n",
       "      <td>Microsoft Office</td>\n",
       "      <td>Treasury Accounting</td>\n",
       "      <td>Accounting/Finance</td>\n",
       "      <td>0</td>\n",
       "      <td>0</td>\n",
       "      <td>0</td>\n",
       "      <td>0</td>\n",
       "      <td>0</td>\n",
       "      <td>0</td>\n",
       "      <td>0</td>\n",
       "      <td>0</td>\n",
       "      <td>0</td>\n",
       "      <td>0</td>\n",
       "      <td>0</td>\n",
       "      <td>0</td>\n",
       "    </tr>\n",
       "    <tr>\n",
       "      <th>1955</th>\n",
       "      <td>Marketing</td>\n",
       "      <td>Sales Skills</td>\n",
       "      <td>Customer Service</td>\n",
       "      <td>Online Sales</td>\n",
       "      <td>Sales Target</td>\n",
       "      <td>Sales Account Management</td>\n",
       "      <td>E-commerce</td>\n",
       "      <td>Marketing/PR/Advertising</td>\n",
       "      <td>0</td>\n",
       "      <td>0</td>\n",
       "      <td>0</td>\n",
       "      <td>0</td>\n",
       "      <td>0</td>\n",
       "      <td>0</td>\n",
       "      <td>0</td>\n",
       "      <td>0</td>\n",
       "      <td>0</td>\n",
       "    </tr>\n",
       "    <tr>\n",
       "      <th>3943</th>\n",
       "      <td>LAN</td>\n",
       "      <td>WAN</td>\n",
       "      <td>Computer Hardware</td>\n",
       "      <td>Installation</td>\n",
       "      <td>Maintenance</td>\n",
       "      <td>Repair</td>\n",
       "      <td>Troubleshooting</td>\n",
       "      <td>Networks</td>\n",
       "      <td>Technical Support</td>\n",
       "      <td>0</td>\n",
       "      <td>0</td>\n",
       "      <td>0</td>\n",
       "      <td>0</td>\n",
       "      <td>0</td>\n",
       "      <td>0</td>\n",
       "      <td>0</td>\n",
       "      <td>0</td>\n",
       "    </tr>\n",
       "  </tbody>\n",
       "</table>\n",
       "</div>"
      ],
      "text/plain": [
       "                   Skill_1                     Skill_2             Skill_3  \\\n",
       "2989  Chemical Engineering   Industrial Powder Coating    Painting Process   \n",
       "1074              Pharmacy              Pharmaceutical             Medical   \n",
       "633     Financial Analysis                     Cashier    Microsoft Office   \n",
       "1955             Marketing                Sales Skills    Customer Service   \n",
       "3943                   LAN                         WAN   Computer Hardware   \n",
       "\n",
       "                   Skill_4              Skill_5                    Skill_6  \\\n",
       "2989               Science                  TIG                        MIG   \n",
       "1074      Customer Service        Customer Care           Customer Support   \n",
       "633    Treasury Accounting   Accounting/Finance                          0   \n",
       "1955          Online Sales         Sales Target   Sales Account Management   \n",
       "3943          Installation          Maintenance                     Repair   \n",
       "\n",
       "                      Skill_7                    Skill_8             Skill_9  \\\n",
       "2989   Mechanical Engineering                  Six Sigma                   0   \n",
       "1074           Pharmaceutical                          0                   0   \n",
       "633                         0                          0                   0   \n",
       "1955               E-commerce   Marketing/PR/Advertising                   0   \n",
       "3943          Troubleshooting                   Networks   Technical Support   \n",
       "\n",
       "     Skill_10 Skill_11 Skill_12 Skill_13 Skill_14 Skill_15 Skill_16 Skill_17  \n",
       "2989        0        0        0        0        0        0        0        0  \n",
       "1074        0        0        0        0        0        0        0        0  \n",
       "633         0        0        0        0        0        0        0        0  \n",
       "1955        0        0        0        0        0        0        0        0  \n",
       "3943        0        0        0        0        0        0        0        0  "
      ]
     },
     "execution_count": 111,
     "metadata": {},
     "output_type": "execute_result"
    }
   ],
   "source": [
    "df1.sample(5)"
   ]
  },
  {
   "cell_type": "code",
   "execution_count": 71,
   "metadata": {},
   "outputs": [],
   "source": [
    "#rename columns of data frame: \n",
    "df1.columns = ['Skill_1', 'Skill_2', 'Skill_3', 'Skill_4', 'Skill_5', 'Skill_6', 'Skill_7', 'Skill_8', 'Skill_9', 'Skill_10', 'Skill_11', 'Skill_12', 'Skill_13', 'Skill_14', 'Skill_15', 'Skill_16', 'Skill_17']"
   ]
  },
  {
   "cell_type": "code",
   "execution_count": 72,
   "metadata": {},
   "outputs": [
    {
     "name": "stdout",
     "output_type": "stream",
     "text": [
      "<class 'pandas.core.frame.DataFrame'>\n",
      "RangeIndex: 4380 entries, 0 to 4379\n",
      "Data columns (total 17 columns):\n",
      " #   Column    Non-Null Count  Dtype \n",
      "---  ------    --------------  ----- \n",
      " 0   Skill_1   4380 non-null   object\n",
      " 1   Skill_2   4377 non-null   object\n",
      " 2   Skill_3   4359 non-null   object\n",
      " 3   Skill_4   4282 non-null   object\n",
      " 4   Skill_5   4092 non-null   object\n",
      " 5   Skill_6   3697 non-null   object\n",
      " 6   Skill_7   3170 non-null   object\n",
      " 7   Skill_8   2450 non-null   object\n",
      " 8   Skill_9   1555 non-null   object\n",
      " 9   Skill_10  692 non-null    object\n",
      " 10  Skill_11  245 non-null    object\n",
      " 11  Skill_12  87 non-null     object\n",
      " 12  Skill_13  29 non-null     object\n",
      " 13  Skill_14  11 non-null     object\n",
      " 14  Skill_15  3 non-null      object\n",
      " 15  Skill_16  2 non-null      object\n",
      " 16  Skill_17  1 non-null      object\n",
      "dtypes: object(17)\n",
      "memory usage: 581.8+ KB\n"
     ]
    }
   ],
   "source": [
    "df1.info()"
   ]
  },
  {
   "cell_type": "code",
   "execution_count": 75,
   "metadata": {},
   "outputs": [
    {
     "data": {
      "text/html": [
       "<div>\n",
       "<style scoped>\n",
       "    .dataframe tbody tr th:only-of-type {\n",
       "        vertical-align: middle;\n",
       "    }\n",
       "\n",
       "    .dataframe tbody tr th {\n",
       "        vertical-align: top;\n",
       "    }\n",
       "\n",
       "    .dataframe thead th {\n",
       "        text-align: right;\n",
       "    }\n",
       "</style>\n",
       "<table border=\"1\" class=\"dataframe\">\n",
       "  <thead>\n",
       "    <tr style=\"text-align: right;\">\n",
       "      <th></th>\n",
       "      <th>Skill_1</th>\n",
       "      <th>Skill_2</th>\n",
       "      <th>Skill_3</th>\n",
       "      <th>Skill_4</th>\n",
       "      <th>Skill_5</th>\n",
       "      <th>Skill_6</th>\n",
       "      <th>Skill_7</th>\n",
       "      <th>Skill_8</th>\n",
       "      <th>Skill_9</th>\n",
       "      <th>Skill_10</th>\n",
       "      <th>Skill_11</th>\n",
       "      <th>Skill_12</th>\n",
       "      <th>Skill_13</th>\n",
       "      <th>Skill_14</th>\n",
       "      <th>Skill_15</th>\n",
       "      <th>Skill_16</th>\n",
       "      <th>Skill_17</th>\n",
       "    </tr>\n",
       "  </thead>\n",
       "  <tbody>\n",
       "    <tr>\n",
       "      <th>count</th>\n",
       "      <td>4380</td>\n",
       "      <td>4380</td>\n",
       "      <td>4380</td>\n",
       "      <td>4380</td>\n",
       "      <td>4380</td>\n",
       "      <td>4380</td>\n",
       "      <td>4380</td>\n",
       "      <td>4380</td>\n",
       "      <td>4380</td>\n",
       "      <td>4380</td>\n",
       "      <td>4380</td>\n",
       "      <td>4380</td>\n",
       "      <td>4380</td>\n",
       "      <td>4380</td>\n",
       "      <td>4380</td>\n",
       "      <td>4380</td>\n",
       "      <td>4380</td>\n",
       "    </tr>\n",
       "    <tr>\n",
       "      <th>unique</th>\n",
       "      <td>831</td>\n",
       "      <td>954</td>\n",
       "      <td>1055</td>\n",
       "      <td>1059</td>\n",
       "      <td>1106</td>\n",
       "      <td>952</td>\n",
       "      <td>928</td>\n",
       "      <td>784</td>\n",
       "      <td>564</td>\n",
       "      <td>359</td>\n",
       "      <td>173</td>\n",
       "      <td>67</td>\n",
       "      <td>27</td>\n",
       "      <td>12</td>\n",
       "      <td>4</td>\n",
       "      <td>3</td>\n",
       "      <td>2</td>\n",
       "    </tr>\n",
       "    <tr>\n",
       "      <th>top</th>\n",
       "      <td>Sales Skills</td>\n",
       "      <td>Sales Target</td>\n",
       "      <td>English</td>\n",
       "      <td>English</td>\n",
       "      <td>0</td>\n",
       "      <td>0</td>\n",
       "      <td>0</td>\n",
       "      <td>0</td>\n",
       "      <td>0</td>\n",
       "      <td>0</td>\n",
       "      <td>0</td>\n",
       "      <td>0</td>\n",
       "      <td>0</td>\n",
       "      <td>0</td>\n",
       "      <td>0</td>\n",
       "      <td>0</td>\n",
       "      <td>0</td>\n",
       "    </tr>\n",
       "    <tr>\n",
       "      <th>freq</th>\n",
       "      <td>287</td>\n",
       "      <td>190</td>\n",
       "      <td>157</td>\n",
       "      <td>244</td>\n",
       "      <td>288</td>\n",
       "      <td>683</td>\n",
       "      <td>1210</td>\n",
       "      <td>1930</td>\n",
       "      <td>2825</td>\n",
       "      <td>3688</td>\n",
       "      <td>4135</td>\n",
       "      <td>4293</td>\n",
       "      <td>4351</td>\n",
       "      <td>4369</td>\n",
       "      <td>4377</td>\n",
       "      <td>4378</td>\n",
       "      <td>4379</td>\n",
       "    </tr>\n",
       "  </tbody>\n",
       "</table>\n",
       "</div>"
      ],
      "text/plain": [
       "             Skill_1        Skill_2   Skill_3   Skill_4  Skill_5  Skill_6  \\\n",
       "count           4380           4380      4380      4380     4380     4380   \n",
       "unique           831            954      1055      1059     1106      952   \n",
       "top     Sales Skills   Sales Target   English   English        0        0   \n",
       "freq             287            190       157       244      288      683   \n",
       "\n",
       "        Skill_7  Skill_8  Skill_9  Skill_10  Skill_11  Skill_12  Skill_13  \\\n",
       "count      4380     4380     4380      4380      4380      4380      4380   \n",
       "unique      928      784      564       359       173        67        27   \n",
       "top           0        0        0         0         0         0         0   \n",
       "freq       1210     1930     2825      3688      4135      4293      4351   \n",
       "\n",
       "        Skill_14  Skill_15  Skill_16  Skill_17  \n",
       "count       4380      4380      4380      4380  \n",
       "unique        12         4         3         2  \n",
       "top            0         0         0         0  \n",
       "freq        4369      4377      4378      4379  "
      ]
     },
     "execution_count": 75,
     "metadata": {},
     "output_type": "execute_result"
    }
   ],
   "source": [
    "df1.describe()"
   ]
  },
  {
   "cell_type": "code",
   "execution_count": 73,
   "metadata": {},
   "outputs": [
    {
     "data": {
      "text/plain": [
       "Skill_1        0\n",
       "Skill_2        3\n",
       "Skill_3       21\n",
       "Skill_4       98\n",
       "Skill_5      288\n",
       "Skill_6      683\n",
       "Skill_7     1210\n",
       "Skill_8     1930\n",
       "Skill_9     2825\n",
       "Skill_10    3688\n",
       "Skill_11    4135\n",
       "Skill_12    4293\n",
       "Skill_13    4351\n",
       "Skill_14    4369\n",
       "Skill_15    4377\n",
       "Skill_16    4378\n",
       "Skill_17    4379\n",
       "dtype: int64"
      ]
     },
     "execution_count": 73,
     "metadata": {},
     "output_type": "execute_result"
    }
   ],
   "source": [
    "df1.isna().sum()"
   ]
  },
  {
   "cell_type": "code",
   "execution_count": 74,
   "metadata": {},
   "outputs": [],
   "source": [
    "# replace non with zero\n",
    "df1 = df1.fillna(0)"
   ]
  },
  {
   "cell_type": "code",
   "execution_count": 63,
   "metadata": {},
   "outputs": [],
   "source": [
    "#remove duplicated data\n",
    "df1.drop_duplicates(inplace=True)"
   ]
  },
  {
   "cell_type": "code",
   "execution_count": 80,
   "metadata": {},
   "outputs": [],
   "source": [
    "# def plot():\n",
    "#     for i in range(df1[:,0:5]):\n",
    "#         s= df1['i'].value_counts()[:5]\n",
    "#         print(s)\n",
    "# plot()"
   ]
  },
  {
   "cell_type": "code",
   "execution_count": 103,
   "metadata": {},
   "outputs": [
    {
     "data": {
      "text/plain": [
       "Sales Skills                   287\n",
       "Information Technology (IT)    162\n",
       "Computer Science               148\n",
       "Finance                        119\n",
       "Sales Target                   118\n",
       "Name: Skill_1, dtype: int64"
      ]
     },
     "execution_count": 103,
     "metadata": {},
     "output_type": "execute_result"
    }
   ],
   "source": [
    "s1 = df1['Skill_1'].value_counts()[:5]\n",
    "s1"
   ]
  },
  {
   "cell_type": "code",
   "execution_count": 87,
   "metadata": {},
   "outputs": [
    {
     "data": {
      "image/png": "[encoded data removed]",
      "text/plain": [
       "<Figure size 720x720 with 1 Axes>"
      ]
     },
     "metadata": {
      "needs_background": "light"
     },
     "output_type": "display_data"
    }
   ],
   "source": [
    "plt.subplots(figsize=(10,10))\n",
    "plt.barh(s1.index,s1,height = 0.5)\n",
    "plt.title(\"MOST REQUIRED SKILLS \")\n",
    "plt.ylabel(\"SKILLS\")\n",
    "plt.xlabel(\"RATE\");"
   ]
  },
  {
   "cell_type": "code",
   "execution_count": 102,
   "metadata": {},
   "outputs": [
    {
     "data": {
      "text/plain": [
       " Sales Target                   190\n",
       " Sales Skills                   183\n",
       " Computer Science               133\n",
       " Customer Service               114\n",
       " Information Technology (IT)    105\n",
       "Name: Skill_2, dtype: int64"
      ]
     },
     "execution_count": 102,
     "metadata": {},
     "output_type": "execute_result"
    }
   ],
   "source": [
    "s2 = df1['Skill_2'].value_counts()[:5]\n",
    "s2"
   ]
  },
  {
   "cell_type": "code",
   "execution_count": 89,
   "metadata": {},
   "outputs": [
    {
     "data": {
      "image/png": "[encoded data removed]",
      "text/plain": [
       "<Figure size 720x720 with 1 Axes>"
      ]
     },
     "metadata": {
      "needs_background": "light"
     },
     "output_type": "display_data"
    }
   ],
   "source": [
    "plt.subplots(figsize=(10,10))\n",
    "plt.barh(s2.index,s2,height = 0.5)\n",
    "plt.title(\"MOST REQUIRED SKILLS \")\n",
    "plt.ylabel(\"SKILLS\")\n",
    "plt.xlabel(\"RATE\");"
   ]
  },
  {
   "cell_type": "code",
   "execution_count": 101,
   "metadata": {},
   "outputs": [
    {
     "data": {
      "text/plain": [
       " English             157\n",
       " Sales Target        143\n",
       " Sales Skills        118\n",
       " Microsoft Office    108\n",
       " Customer Service    103\n",
       "Name: Skill_3, dtype: int64"
      ]
     },
     "execution_count": 101,
     "metadata": {},
     "output_type": "execute_result"
    }
   ],
   "source": [
    "s3 = df1['Skill_3'].value_counts()[:5]\n",
    "s3"
   ]
  },
  {
   "cell_type": "code",
   "execution_count": 90,
   "metadata": {},
   "outputs": [
    {
     "data": {
      "image/png": "[encoded data removed]",
      "text/plain": [
       "<Figure size 720x720 with 1 Axes>"
      ]
     },
     "metadata": {
      "needs_background": "light"
     },
     "output_type": "display_data"
    }
   ],
   "source": [
    "plt.subplots(figsize=(10,10))\n",
    "plt.barh(s3.index,s3,height = 0.5)\n",
    "plt.title(\"MOST REQUIRED SKILLS \")\n",
    "plt.ylabel(\"SKILLS\")\n",
    "plt.xlabel(\"RATE\");"
   ]
  },
  {
   "cell_type": "code",
   "execution_count": 99,
   "metadata": {},
   "outputs": [
    {
     "data": {
      "text/plain": [
       " English                 244\n",
       " Customer Service        108\n",
       " Microsoft Office        104\n",
       " Communication Skills    102\n",
       "0                         98\n",
       "Name: Skill_4, dtype: int64"
      ]
     },
     "execution_count": 99,
     "metadata": {},
     "output_type": "execute_result"
    }
   ],
   "source": [
    "s4 = df1['Skill_4'].value_counts()[:5]\n",
    "s4"
   ]
  },
  {
   "cell_type": "code",
   "execution_count": 100,
   "metadata": {},
   "outputs": [
    {
     "data": {
      "text/plain": [
       "0                        288\n",
       " English                 222\n",
       " Microsoft Office         92\n",
       " Communication Skills     79\n",
       " Sales/Retail             74\n",
       "Name: Skill_5, dtype: int64"
      ]
     },
     "execution_count": 100,
     "metadata": {},
     "output_type": "execute_result"
    }
   ],
   "source": [
    "s5 = df1['Skill_5'].value_counts()[:5]\n",
    "s5"
   ]
  },
  {
   "cell_type": "markdown",
   "metadata": {},
   "source": [
    "# the most popular skills\n",
    "- English             \n",
    "- Sales Skills\n",
    "-  Customer Service                   \n",
    "- Information Technology (IT)    \n",
    "- Computer Science               \n",
    "- Finance                        \n",
    "- Sales Target                   "
   ]
  }
 ],
 "metadata": {
  "interpreter": {
   "hash": "54ac309f0ea5c8bc60f79b0ab1d3bdc25309c2f99851fe0390ab71cf066c3be6"
  },
  "kernelspec": {
   "display_name": "Python 3.8.5 64-bit ('base': conda)",
   "language": "python",
   "name": "python3"
  },
  "language_info": {
   "codemirror_mode": {
    "name": "ipython",
    "version": 3
   },
   "file_extension": ".py",
   "mimetype": "text/x-python",
   "name": "python",
   "nbconvert_exporter": "python",
   "pygments_lexer": "ipython3",
   "version": "3.8.5"
  },
  "orig_nbformat": 4
 },
 "nbformat": 4,
 "nbformat_minor": 2
}
